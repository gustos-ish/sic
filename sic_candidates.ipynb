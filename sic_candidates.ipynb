{
 "cells": [
  {
   "cell_type": "markdown",
   "id": "9732b63d-50dd-4ffc-850c-a3a687c49e4d",
   "metadata": {},
   "source": [
    "# SIC Results "
   ]
  },
  {
   "cell_type": "markdown",
   "id": "5796b4a8-089a-4c51-8085-01446e341c27",
   "metadata": {},
   "source": [
    "## Imports "
   ]
  },
  {
   "cell_type": "code",
   "execution_count": null,
   "id": "9c98de17-1864-4e60-9283-a550ac83d3ee",
   "metadata": {},
   "outputs": [],
   "source": [
    "from plotly import graph_objects as go\n",
    "#\n",
    "import pandas as pd"
   ]
  },
  {
   "cell_type": "markdown",
   "id": "d554b216-4ce4-4b52-aa8d-f15f82d60192",
   "metadata": {},
   "source": [
    "## Load Dataset"
   ]
  },
  {
   "cell_type": "code",
   "execution_count": null,
   "id": "6975fef8-bb36-465d-8a17-58fc7486b57b",
   "metadata": {},
   "outputs": [],
   "source": [
    "df_sic_1 = pd.read_excel('dataset_candidates.xlsx', sheet_name='model_1')\n",
    "df_sic_1 = df_sic_1.set_index('candidat')\n",
    "list_cat_sic = df_sic_1.columns.tolist()\n",
    "df_sic_1"
   ]
  },
  {
   "cell_type": "markdown",
   "id": "70fa192b-2df0-42e4-b486-0fc4b5e1118d",
   "metadata": {},
   "source": [
    "## Display Top 5 Casting Results "
   ]
  },
  {
   "cell_type": "code",
   "execution_count": null,
   "id": "de21cd07-6fce-4972-a767-1443386009ad",
   "metadata": {},
   "outputs": [],
   "source": [
    "# Init Figure\n",
    "fig = go.Figure()\n",
    "\n",
    "# Init Traces\n",
    "for _idx, _row in df_sic_1.iterrows():\n",
    "    _trace =  go.Scatterpolar(\n",
    "        r=_row.tolist(),\n",
    "        theta=list_cat_sic,\n",
    "        fill='toself',\n",
    "        name=_row.name,\n",
    "    )\n",
    "    fig.add_trace(_trace)\n",
    "    \n",
    "# Update Layout\n",
    "fig.update_layout(\n",
    "  polar=dict(\n",
    "    radialaxis=dict(\n",
    "      visible=True,\n",
    "      range=[0, 5]\n",
    "    )),\n",
    "  showlegend=True,\n",
    "  title='SIC Top 5 Candidates',\n",
    ")\n",
    "\n",
    "fig.show()"
   ]
  },
  {
   "cell_type": "markdown",
   "id": "47f3636e-4fe6-451a-8224-b6a05e216f1e",
   "metadata": {},
   "source": [
    "## Save HTML Of Results "
   ]
  },
  {
   "cell_type": "code",
   "execution_count": null,
   "id": "e35a6149-f886-43bf-9def-6c56a3fb0673",
   "metadata": {},
   "outputs": [],
   "source": [
    "import plotly.io as pio\n",
    "pio.write_html(fig, file=\"radar_chart.html\", auto_open=True)"
   ]
  },
  {
   "cell_type": "code",
   "execution_count": null,
   "id": "a71456c5-fc91-496b-8728-b97ac4699940",
   "metadata": {},
   "outputs": [],
   "source": [
    "fig.write_html(\"radar_chart.html\", include_plotlyjs=\"cdn\")"
   ]
  }
 ],
 "metadata": {
  "kernelspec": {
   "display_name": "Python 3 (ipykernel)",
   "language": "python",
   "name": "python3"
  },
  "language_info": {
   "codemirror_mode": {
    "name": "ipython",
    "version": 3
   },
   "file_extension": ".py",
   "mimetype": "text/x-python",
   "name": "python",
   "nbconvert_exporter": "python",
   "pygments_lexer": "ipython3",
   "version": "3.7.9"
  }
 },
 "nbformat": 4,
 "nbformat_minor": 5
}
